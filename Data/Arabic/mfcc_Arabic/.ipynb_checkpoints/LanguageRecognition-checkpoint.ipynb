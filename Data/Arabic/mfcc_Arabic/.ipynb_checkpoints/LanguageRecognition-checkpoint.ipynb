{
 "cells": [
  {
   "cell_type": "markdown",
   "id": "48d66477",
   "metadata": {},
   "source": [
    "### Train models of n_components=16 for all the languages"
   ]
  },
  {
   "cell_type": "code",
   "execution_count": 40,
   "id": "8ae88f2b",
   "metadata": {},
   "outputs": [
    {
     "name": "stdout",
     "output_type": "stream",
     "text": [
      "Model for Arabic saved successfully.\n",
      "Model for French saved successfully.\n",
      "Model for German saved successfully.\n",
      "Model for italian saved successfully.\n",
      "Model for Japanese saved successfully.\n",
      "Model for Korean saved successfully.\n",
      "Model for Romania saved successfully.\n",
      "Model for Russian saved successfully.\n",
      "Model for Spanish saved successfully.\n",
      "Model for turkish saved successfully.\n"
     ]
    }
   ],
   "source": [
    "from sklearn.mixture import GaussianMixture\n",
    "import numpy as np\n",
    "import os\n",
    "import joblib\n",
    "\n",
    "l=['Arabic','French', 'German', 'italian', 'Japanese', 'Korean', 'Romania', 'Russian', 'Spanish', 'turkish']\n",
    "models = {}\n",
    "\n",
    "for i in l:\n",
    "    # Path to the folder containing MFCC files\n",
    "    folder_path = rf'C:\\Users\\Pro\\Desktop\\speech processing\\speeshdata\\english_data\\Data\\{i}\\Trainn_{i}'\n",
    "\n",
    "    files = os.listdir(folder_path)\n",
    "\n",
    "    # Initialize an empty array to store all MFCC data\n",
    "    all_mfcc_data = []\n",
    "\n",
    "    # Iterate over each file\n",
    "    for file_name in files:\n",
    "        # Read the MFCC data from the file\n",
    "        with open(os.path.join(folder_path, file_name), 'r') as file:\n",
    "            mfcc_data = np.loadtxt(file)\n",
    "            # Append the MFCC data to the list\n",
    "            all_mfcc_data.append(mfcc_data)\n",
    "\n",
    "    # Concatenate all MFCC data into a single array\n",
    "    all_mfcc_data = np.concatenate(all_mfcc_data)\n",
    "\n",
    "    # Determine the number of features\n",
    "    num_features = all_mfcc_data.shape[1]\n",
    "\n",
    "    gmm_16 = GaussianMixture(n_components=16, covariance_type='full', tol=1e-3, reg_covar=1e-6, max_iter=100, n_init=10, init_params='kmeans', random_state=0)\n",
    "\n",
    "    gmm_16.fit(all_mfcc_data)\n",
    "    models[i] = gmm_16\n",
    "    model_file_path = f'gmm_{i}_16.pkl'\n",
    "    # Save the model to the specified file path\n",
    "    joblib.dump(gmm_16, model_file_path)\n",
    "    print(f\"Model for {i} saved successfully.\")\n",
    "\n",
    "\n"
   ]
  },
  {
   "cell_type": "markdown",
   "id": "523f70c4",
   "metadata": {},
   "source": [
    "### load the models (16) for all languages"
   ]
  },
  {
   "cell_type": "code",
   "execution_count": 71,
   "id": "c5061e21",
   "metadata": {},
   "outputs": [],
   "source": [
    "import joblib\n",
    "\n",
    "l=['eng','Arabic','French', 'German', 'italian', 'Japanese', 'Korean', 'Romania', 'Russian', 'Spanish', 'turkish']\n",
    "models = {}\n",
    "\n",
    "for i in l:\n",
    "    model_file_path = f'gmm_{i}_16.pkl'\n",
    "    # Load the model from the file\n",
    "    loaded_model = joblib.load(model_file_path)\n",
    "    models[i] = loaded_model\n"
   ]
  },
  {
   "cell_type": "code",
   "execution_count": null,
   "id": "182e6fda",
   "metadata": {},
   "outputs": [],
   "source": [
    "### making a test on a english audio"
   ]
  },
  {
   "cell_type": "code",
   "execution_count": 42,
   "id": "1a61c047",
   "metadata": {},
   "outputs": [
    {
     "name": "stdout",
     "output_type": "stream",
     "text": [
      "Score for eng: -57.07581790299308\n",
      "Score for Arabic: -62.03277649870654\n",
      "Score for French: -67.76442379480271\n",
      "Score for German: -64.3258003003296\n",
      "Score for italian: -66.03103519456346\n",
      "Score for Japanese: -64.26551078070311\n",
      "Score for Korean: -65.43525147371322\n",
      "Score for Romania: -67.58286540647651\n",
      "Score for Russian: -68.43241299524249\n",
      "Score for Spanish: -64.24017146244472\n",
      "Score for turkish: -278.316698848215\n",
      "Best model: eng with score: -57.07581790299308\n"
     ]
    }
   ],
   "source": [
    "file_path = r\"C:\\Users\\Pro\\Desktop\\speech processing\\speeshdata\\english_data\\mfcc_Homme\\engA_H_1_12_mfcc.txt\"\n",
    "test_mfcc_data = np.loadtxt(file_path)\n",
    "max_score = float('-inf')\n",
    "best_model = None\n",
    "\n",
    "for language, model in models.items():\n",
    "    score = model.score(test_mfcc_data)\n",
    "    print(f\"Score for {language}: {score}\")\n",
    "    if score > max_score:\n",
    "        max_score = score\n",
    "        best_model = language\n",
    "\n",
    "print(f\"Best model: {best_model} with score: {max_score}\")\n"
   ]
  },
  {
   "cell_type": "markdown",
   "id": "efc912da",
   "metadata": {},
   "source": [
    "the english model (gmm_eng_16 ) gives the best score , so the model is capable of recognize the english languge"
   ]
  },
  {
   "cell_type": "markdown",
   "id": "e76ba403",
   "metadata": {},
   "source": [
    "### Now lets evalute the models on the test dataset of every languages"
   ]
  },
  {
   "cell_type": "markdown",
   "id": "d83f43b8",
   "metadata": {},
   "source": [
    "### Testing models (16)"
   ]
  },
  {
   "cell_type": "markdown",
   "id": "46003868",
   "metadata": {},
   "source": [
    "Evaluates the accuracy of a language recognition model on the test set for each language in the list `l`. Here's a breakdown of the script:\n",
    "\n",
    "1. Import the necessary libraries (`os`).\n",
    "\n",
    "2. Define a list `l` containing language codes.\n",
    "\n",
    "3. Iterate over each language in `l`:\n",
    "\n",
    "   a. Set the path to the folder containing the test set MFCC files for the current language (`test_folder_path`).\n",
    "\n",
    "   b. List all files in the test folder (`test_files`).\n",
    "\n",
    "   c. Initialize variables `num_correct` to store the number of correctly predicted files and `num_total` to store the total number of test files.\n",
    "\n",
    "   d. Iterate over each file in the test folder:\n",
    "\n",
    "      i. Read the MFCC data from the file.\n",
    "\n",
    "      ii. Find the model with the highest score for the current MFCC data among the models in `models` \n",
    "\n",
    "      iii. Check if the best model matches the current language (`i`) and increment `num_correct` if it does.\n",
    "\n",
    "   e. Calculate the accuracy as the ratio of `num_correct` to `num_total` and print the accuracy for the current language.\n",
    "\n"
   ]
  },
  {
   "cell_type": "code",
   "execution_count": 73,
   "id": "4b5afad2",
   "metadata": {},
   "outputs": [
    {
     "name": "stdout",
     "output_type": "stream",
     "text": [
      "Accuracy of the eng model on the test set: 0.9733629300776915\n",
      "Accuracy of the Arabic model on the test set: 1.0\n",
      "Accuracy of the French model on the test set: 0.7777777777777778\n",
      "Accuracy of the German model on the test set: 0.88\n",
      "Accuracy of the italian model on the test set: 1.0\n",
      "Accuracy of the Japanese model on the test set: 0.9781931464174455\n",
      "Accuracy of the Korean model on the test set: 0.24242424242424243\n",
      "Accuracy of the Romania model on the test set: 0.8541666666666666\n",
      "Accuracy of the Russian model on the test set: 1.0\n",
      "Accuracy of the Spanish model on the test set: 0.9669421487603306\n",
      "Accuracy of the turkish model on the test set: 1.0\n"
     ]
    }
   ],
   "source": [
    "import os\n",
    "l=['eng','Arabic','French', 'German', 'italian', 'Japanese', 'Korean', 'Romania', 'Russian', 'Spanish', 'turkish']\n",
    "accuracy_16=[]\n",
    "for i in l:\n",
    "    # Path to the folder containing the test set MFCC files\n",
    "    test_folder_path = rf'C:\\Users\\Pro\\Desktop\\speech processing\\speeshdata\\english_data\\Data\\{i}\\test_{i}'\n",
    "\n",
    "    # List all files in the test folder\n",
    "    test_files = os.listdir(test_folder_path)\n",
    "\n",
    "    num_correct = 0\n",
    "    num_total = len(test_files)\n",
    "\n",
    "    for file_name in test_files:\n",
    "        # Read the MFCC data from the file\n",
    "        with open(os.path.join(test_folder_path, file_name), 'r') as file:\n",
    "            test_mfcc_data = np.loadtxt(file)\n",
    "\n",
    "        max_score = float('-inf')\n",
    "        best_model = None\n",
    "\n",
    "        for language, model in models.items():\n",
    "            score = model.score(test_mfcc_data)\n",
    "            if score > max_score:\n",
    "                max_score = score\n",
    "                best_model = language\n",
    "\n",
    "        if best_model == i:\n",
    "            num_correct += 1\n",
    "\n",
    "    accuracy = num_correct / num_total\n",
    "    accuracy_16.append(accuracy)\n",
    "    \n",
    "    print(f\"Accuracy of the {i} model on the test set: {accuracy}\")\n"
   ]
  },
  {
   "cell_type": "markdown",
   "id": "d9502d42",
   "metadata": {},
   "source": [
    "- English (eng): 97.34%\n",
    "- Arabic: 100.0%\n",
    "- French: 77.78%\n",
    "- German: 88.00%\n",
    "- Italian: 100.00%\n",
    "- Japanese: 97.82%\n",
    "- Korean: 24.24%\n",
    "- Romanian: 85.42%\n",
    "- Russian: 100.00%\n",
    "- Spanish: 96.69%\n",
    "- Turkish: 100.00%\n",
    "\n",
    "The models are performing quite well for some languages (e.g., Italian, Russian, Turkish) but may need further improvement for others (e.g., French, Korean).)"
   ]
  },
  {
   "cell_type": "markdown",
   "id": "5f29cb8e",
   "metadata": {},
   "source": [
    "### Train models of n_components=32 for all the languages"
   ]
  },
  {
   "cell_type": "code",
   "execution_count": 50,
   "id": "9ddb1b7b",
   "metadata": {},
   "outputs": [
    {
     "name": "stdout",
     "output_type": "stream",
     "text": [
      "Model for Arabic saved successfully.\n",
      "Model for French saved successfully.\n",
      "Model for German saved successfully.\n",
      "Model for italian saved successfully.\n",
      "Model for Japanese saved successfully.\n",
      "Model for Korean saved successfully.\n",
      "Model for Romania saved successfully.\n",
      "Model for Russian saved successfully.\n",
      "Model for Spanish saved successfully.\n",
      "Model for turkish saved successfully.\n"
     ]
    }
   ],
   "source": [
    "from sklearn.mixture import GaussianMixture\n",
    "import numpy as np\n",
    "import os\n",
    "import joblib\n",
    "\n",
    "l=['Arabic','French', 'German', 'italian', 'Japanese', 'Korean', 'Romania', 'Russian', 'Spanish', 'turkish']\n",
    "models = {}\n",
    "\n",
    "for i in l:\n",
    "    # Path to the folder containing MFCC files\n",
    "    folder_path = rf'C:\\Users\\Pro\\Desktop\\speech processing\\speeshdata\\english_data\\Data\\{i}\\Trainn_{i}'\n",
    "\n",
    "    files = os.listdir(folder_path)\n",
    "\n",
    "    # Initialize an empty array to store all MFCC data\n",
    "    all_mfcc_data = []\n",
    "\n",
    "    # Iterate over each file\n",
    "    for file_name in files:\n",
    "        # Read the MFCC data from the file\n",
    "        with open(os.path.join(folder_path, file_name), 'r') as file:\n",
    "            mfcc_data = np.loadtxt(file)\n",
    "            # Append the MFCC data to the list\n",
    "            all_mfcc_data.append(mfcc_data)\n",
    "\n",
    "    # Concatenate all MFCC data into a single array\n",
    "    all_mfcc_data = np.concatenate(all_mfcc_data)\n",
    "\n",
    "    # Determine the number of features\n",
    "    num_features = all_mfcc_data.shape[1]\n",
    "\n",
    "    gmm_32 = GaussianMixture(n_components=32, covariance_type='full', tol=1e-3, reg_covar=1e-6, max_iter=100, n_init=10, init_params='kmeans', random_state=0)\n",
    "\n",
    "    gmm_32.fit(all_mfcc_data)\n",
    "    models[i] = gmm_32\n",
    "    model_file_path = f'gmm_{i}_32.pkl'\n",
    "    # Save the model to the specified file path\n",
    "    joblib.dump(gmm_32, model_file_path)\n",
    "    print(f\"Model for {i} saved successfully.\")\n"
   ]
  },
  {
   "cell_type": "markdown",
   "id": "4c91963b",
   "metadata": {},
   "source": [
    "### Testing models (32)"
   ]
  },
  {
   "cell_type": "code",
   "execution_count": null,
   "id": "8da9abaa",
   "metadata": {},
   "outputs": [],
   "source": [
    "#load the models (32)"
   ]
  },
  {
   "cell_type": "code",
   "execution_count": 64,
   "id": "c0811736",
   "metadata": {},
   "outputs": [],
   "source": [
    "import joblib\n",
    "\n",
    "l=['eng','Arabic','French', 'German', 'italian', 'Japanese', 'Korean', 'Romania', 'Russian', 'Spanish', 'turkish']\n",
    "models_32= {}\n",
    "\n",
    "for i in l:\n",
    "    model_file_path = f'gmm_{i}_32.pkl'\n",
    "    # Load the model from the file\n",
    "    loaded_model = joblib.load(model_file_path)\n",
    "    models_32[i] = loaded_model\n"
   ]
  },
  {
   "cell_type": "code",
   "execution_count": 74,
   "id": "759bb93e",
   "metadata": {},
   "outputs": [
    {
     "name": "stdout",
     "output_type": "stream",
     "text": [
      "Accuracy of the eng model on the test set: 0.9755826859045506\n",
      "Accuracy of the Arabic model on the test set: 1.0\n",
      "Accuracy of the French model on the test set: 0.8888888888888888\n",
      "Accuracy of the German model on the test set: 0.88\n",
      "Accuracy of the italian model on the test set: 1.0\n",
      "Accuracy of the Japanese model on the test set: 0.9813084112149533\n",
      "Accuracy of the Korean model on the test set: 0.30303030303030304\n",
      "Accuracy of the Romania model on the test set: 0.8541666666666666\n",
      "Accuracy of the Russian model on the test set: 1.0\n",
      "Accuracy of the Spanish model on the test set: 0.9710743801652892\n",
      "Accuracy of the turkish model on the test set: 1.0\n"
     ]
    }
   ],
   "source": [
    "import os\n",
    "l=['eng','Arabic','French', 'German', 'italian', 'Japanese', 'Korean', 'Romania', 'Russian', 'Spanish', 'turkish']\n",
    "accuracy_32=[]\n",
    "\n",
    "for i in l:\n",
    "    # Path to the folder containing the test set MFCC files\n",
    "    test_folder_path = rf'C:\\Users\\Pro\\Desktop\\speech processing\\speeshdata\\english_data\\Data\\{i}\\test_{i}'\n",
    "\n",
    "    # List all files in the test folder\n",
    "    test_files = os.listdir(test_folder_path)\n",
    "\n",
    "    num_correct = 0\n",
    "    num_total = len(test_files)\n",
    "\n",
    "    for file_name in test_files:\n",
    "        # Read the MFCC data from the file\n",
    "        with open(os.path.join(test_folder_path, file_name), 'r') as file:\n",
    "            test_mfcc_data = np.loadtxt(file)\n",
    "\n",
    "        max_score = float('-inf')\n",
    "        best_model = None\n",
    "\n",
    "        for language, model in models_32.items():\n",
    "            score = model.score(test_mfcc_data)\n",
    "            if score > max_score:\n",
    "                max_score = score\n",
    "                best_model = language\n",
    "\n",
    "        if best_model == i:\n",
    "            num_correct += 1\n",
    "\n",
    "    accuracy = num_correct / num_total\n",
    "    accuracy_32.append(accuracy)\n",
    "    print(f\"Accuracy of the {i} model on the test set: {accuracy}\")\n"
   ]
  },
  {
   "cell_type": "markdown",
   "id": "5ff416dd",
   "metadata": {},
   "source": [
    "- English (eng): 97.56%\n",
    "- Arabic: 100.0%\n",
    "- French: 88.89%\n",
    "- German: 88.00%\n",
    "- Italian: 100.00%\n",
    "- Japanese: 98.13%\n",
    "- Korean: 30.30%\n",
    "- Romanian: 85.42%\n",
    "- Russian: 100.00%\n",
    "- Spanish: 97.11%\n",
    "- Turkish: 100.00%\n",
    "\n",
    "These results show similar trends to the previous evaluation (16), with some improvements in accuracy for certain languages and slight changes for others. Overall, the models seem to be performing well, especially for Italian, Russian, and Turkish, while there may be room for improvement for French, Korean, and possibly others."
   ]
  },
  {
   "cell_type": "markdown",
   "id": "cd1b9a8a",
   "metadata": {},
   "source": [
    "### Train models of n_components=64 for all the languages"
   ]
  },
  {
   "cell_type": "code",
   "execution_count": 54,
   "id": "1f9857d1",
   "metadata": {},
   "outputs": [
    {
     "name": "stdout",
     "output_type": "stream",
     "text": [
      "Model for Arabic saved successfully.\n",
      "Model for French saved successfully.\n",
      "Model for German saved successfully.\n",
      "Model for italian saved successfully.\n",
      "Model for Japanese saved successfully.\n",
      "Model for Korean saved successfully.\n",
      "Model for Romania saved successfully.\n",
      "Model for Russian saved successfully.\n",
      "Model for Spanish saved successfully.\n",
      "Model for turkish saved successfully.\n"
     ]
    }
   ],
   "source": [
    "from sklearn.mixture import GaussianMixture\n",
    "import numpy as np\n",
    "import os\n",
    "import joblib\n",
    "\n",
    "l=['Arabic','French', 'German', 'italian', 'Japanese', 'Korean', 'Romania', 'Russian', 'Spanish', 'turkish']\n",
    "models = {}\n",
    "\n",
    "for i in l:\n",
    "    # Path to the folder containing MFCC files\n",
    "    folder_path = rf'C:\\Users\\Pro\\Desktop\\speech processing\\speeshdata\\english_data\\Data\\{i}\\Trainn_{i}'\n",
    "\n",
    "    files = os.listdir(folder_path)\n",
    "\n",
    "    # Initialize an empty array to store all MFCC data\n",
    "    all_mfcc_data = []\n",
    "\n",
    "    # Iterate over each file\n",
    "    for file_name in files:\n",
    "        # Read the MFCC data from the file\n",
    "        with open(os.path.join(folder_path, file_name), 'r') as file:\n",
    "            mfcc_data = np.loadtxt(file)\n",
    "            # Append the MFCC data to the list\n",
    "            all_mfcc_data.append(mfcc_data)\n",
    "\n",
    "    # Concatenate all MFCC data into a single array\n",
    "    all_mfcc_data = np.concatenate(all_mfcc_data)\n",
    "\n",
    "    # Determine the number of features\n",
    "    num_features = all_mfcc_data.shape[1]\n",
    "\n",
    "    gmm_64 = GaussianMixture(n_components=64, covariance_type='full', tol=1e-3, reg_covar=1e-6, max_iter=100, n_init=10, init_params='kmeans', random_state=0)\n",
    "\n",
    "    gmm_64.fit(all_mfcc_data)\n",
    "    models[i] = gmm_64\n",
    "    model_file_path = f'gmm_{i}_64.pkl'\n",
    "    # Save the model to the specified file path\n",
    "    joblib.dump(gmm_64, model_file_path)\n",
    "    print(f\"Model for {i} saved successfully.\")\n"
   ]
  },
  {
   "cell_type": "markdown",
   "id": "d0d026df",
   "metadata": {},
   "source": [
    "### Testing models (64)"
   ]
  },
  {
   "cell_type": "code",
   "execution_count": 59,
   "id": "5d910b50",
   "metadata": {},
   "outputs": [],
   "source": [
    "import joblib\n",
    "\n",
    "l=['eng','Arabic','French', 'German', 'italian', 'Japanese', 'Korean', 'Romania', 'Russian', 'Spanish', 'turkish']\n",
    "models_64= {}\n",
    "\n",
    "for i in l:\n",
    "    model_file_path = f'gmm_{i}_64.pkl'\n",
    "    # Load the model from the file\n",
    "    loaded_model = joblib.load(model_file_path)\n",
    "    models_64[i] = loaded_model\n"
   ]
  },
  {
   "cell_type": "code",
   "execution_count": 75,
   "id": "007a7603",
   "metadata": {},
   "outputs": [
    {
     "name": "stdout",
     "output_type": "stream",
     "text": [
      "Accuracy of the eng model on the test set: 0.9840917499075101\n",
      "Accuracy of the Arabic model on the test set: 0.7564102564102564\n",
      "Accuracy of the French model on the test set: 0.7777777777777778\n",
      "Accuracy of the German model on the test set: 0.9333333333333333\n",
      "Accuracy of the italian model on the test set: 1.0\n",
      "Accuracy of the Japanese model on the test set: 0.9968847352024922\n",
      "Accuracy of the Korean model on the test set: 0.7575757575757576\n",
      "Accuracy of the Romania model on the test set: 0.8333333333333334\n",
      "Accuracy of the Russian model on the test set: 1.0\n",
      "Accuracy of the Spanish model on the test set: 0.7479338842975206\n",
      "Accuracy of the turkish model on the test set: 1.0\n"
     ]
    }
   ],
   "source": [
    "import os\n",
    "l=['eng','Arabic','French', 'German', 'italian', 'Japanese', 'Korean', 'Romania', 'Russian', 'Spanish', 'turkish']\n",
    "accuracy_64=[]\n",
    "for i in l:\n",
    "    # Path to the folder containing the test set MFCC files\n",
    "    test_folder_path = rf'C:\\Users\\Pro\\Desktop\\speech processing\\speeshdata\\english_data\\Data\\{i}\\test_{i}'\n",
    "\n",
    "    # List all files in the test folder\n",
    "    test_files = os.listdir(test_folder_path)\n",
    "\n",
    "    num_correct = 0\n",
    "    num_total = len(test_files)\n",
    "\n",
    "    for file_name in test_files:\n",
    "        # Read the MFCC data from the file\n",
    "        with open(os.path.join(test_folder_path, file_name), 'r') as file:\n",
    "            test_mfcc_data = np.loadtxt(file)\n",
    "\n",
    "        max_score = float('-inf')\n",
    "        best_model = None\n",
    "\n",
    "        for language, model in models_64.items():\n",
    "            score = model.score(test_mfcc_data)\n",
    "            if score > max_score:\n",
    "                max_score = score\n",
    "                best_model = language\n",
    "\n",
    "        if best_model == i:\n",
    "            num_correct += 1\n",
    "\n",
    "    accuracy = num_correct / num_total\n",
    "    accuracy_64.append(accuracy)\n",
    "    print(f\"Accuracy of the {i} model on the test set: {accuracy}\")\n"
   ]
  },
  {
   "cell_type": "markdown",
   "id": "9fbd539a",
   "metadata": {},
   "source": [
    "### Train models of n_components=128 for all the languages"
   ]
  },
  {
   "cell_type": "code",
   "execution_count": 61,
   "id": "95ed919f",
   "metadata": {},
   "outputs": [
    {
     "name": "stdout",
     "output_type": "stream",
     "text": [
      "Model for Arabic saved successfully.\n",
      "Model for French saved successfully.\n",
      "Model for German saved successfully.\n"
     ]
    },
    {
     "name": "stderr",
     "output_type": "stream",
     "text": [
      "C:\\Users\\Pro\\anaconda3\\lib\\site-packages\\sklearn\\mixture\\_base.py:274: ConvergenceWarning: Initialization 10 did not converge. Try different init parameters, or increase max_iter, tol or check for degenerate data.\n",
      "  warnings.warn(\n"
     ]
    },
    {
     "name": "stdout",
     "output_type": "stream",
     "text": [
      "Model for italian saved successfully.\n"
     ]
    },
    {
     "name": "stderr",
     "output_type": "stream",
     "text": [
      "C:\\Users\\Pro\\anaconda3\\lib\\site-packages\\sklearn\\mixture\\_base.py:274: ConvergenceWarning: Initialization 10 did not converge. Try different init parameters, or increase max_iter, tol or check for degenerate data.\n",
      "  warnings.warn(\n"
     ]
    },
    {
     "name": "stdout",
     "output_type": "stream",
     "text": [
      "Model for Japanese saved successfully.\n"
     ]
    },
    {
     "name": "stderr",
     "output_type": "stream",
     "text": [
      "C:\\Users\\Pro\\anaconda3\\lib\\site-packages\\sklearn\\mixture\\_base.py:274: ConvergenceWarning: Initialization 10 did not converge. Try different init parameters, or increase max_iter, tol or check for degenerate data.\n",
      "  warnings.warn(\n"
     ]
    },
    {
     "name": "stdout",
     "output_type": "stream",
     "text": [
      "Model for Korean saved successfully.\n",
      "Model for Romania saved successfully.\n",
      "Model for Russian saved successfully.\n",
      "Model for Spanish saved successfully.\n",
      "Model for turkish saved successfully.\n"
     ]
    }
   ],
   "source": [
    "from sklearn.mixture import GaussianMixture\n",
    "import numpy as np\n",
    "import os\n",
    "import joblib\n",
    "\n",
    "l=['Arabic','French', 'German', 'italian', 'Japanese', 'Korean', 'Romania', 'Russian', 'Spanish', 'turkish']\n",
    "models = {}\n",
    "\n",
    "for i in l:\n",
    "    # Path to the folder containing MFCC files\n",
    "    folder_path = rf'C:\\Users\\Pro\\Desktop\\speech processing\\speeshdata\\english_data\\Data\\{i}\\Trainn_{i}'\n",
    "\n",
    "    files = os.listdir(folder_path)\n",
    "\n",
    "    # Initialize an empty array to store all MFCC data\n",
    "    all_mfcc_data = []\n",
    "\n",
    "    # Iterate over each file\n",
    "    for file_name in files:\n",
    "        # Read the MFCC data from the file\n",
    "        with open(os.path.join(folder_path, file_name), 'r') as file:\n",
    "            mfcc_data = np.loadtxt(file)\n",
    "            # Append the MFCC data to the list\n",
    "            all_mfcc_data.append(mfcc_data)\n",
    "\n",
    "    # Concatenate all MFCC data into a single array\n",
    "    all_mfcc_data = np.concatenate(all_mfcc_data)\n",
    "\n",
    "    # Determine the number of features\n",
    "    num_features = all_mfcc_data.shape[1]\n",
    "\n",
    "    gmm_128 = GaussianMixture(n_components=128, covariance_type='full', tol=1e-3, reg_covar=1e-6, max_iter=100, n_init=10, init_params='kmeans', random_state=0)\n",
    "\n",
    "    gmm_128.fit(all_mfcc_data)\n",
    "    models[i] = gmm_128\n",
    "    model_file_path = f'gmm_{i}_128.pkl'\n",
    "    # Save the model to the spe4cified file path\n",
    "    joblib.dump(gmm_128, model_file_path)\n",
    "    print(f\"Model for {i} saved successfully.\")\n"
   ]
  },
  {
   "cell_type": "markdown",
   "id": "c06cdb5f",
   "metadata": {},
   "source": [
    "### Testing models (128)"
   ]
  },
  {
   "cell_type": "code",
   "execution_count": 62,
   "id": "31981c0b",
   "metadata": {},
   "outputs": [],
   "source": [
    "import joblib\n",
    "\n",
    "l=['eng','Arabic','French', 'German', 'italian', 'Japanese', 'Korean', 'Romania', 'Russian', 'Spanish', 'turkish']\n",
    "models_128= {}\n",
    "\n",
    "for i in l:\n",
    "    model_file_path = f'gmm_{i}_128.pkl'\n",
    "    # Load the model from the file\n",
    "    loaded_model = joblib.load(model_file_path)\n",
    "    models_128[i] = loaded_model\n"
   ]
  },
  {
   "cell_type": "code",
   "execution_count": 76,
   "id": "2ec70b10",
   "metadata": {},
   "outputs": [
    {
     "name": "stdout",
     "output_type": "stream",
     "text": [
      "Accuracy of the eng model on the test set: 0.9840917499075101\n",
      "Accuracy of the Arabic model on the test set: 0.5641025641025641\n",
      "Accuracy of the French model on the test set: 0.7777777777777778\n",
      "Accuracy of the German model on the test set: 0.9333333333333333\n",
      "Accuracy of the italian model on the test set: 1.0\n",
      "Accuracy of the Japanese model on the test set: 0.9937694704049844\n",
      "Accuracy of the Korean model on the test set: 0.7575757575757576\n",
      "Accuracy of the Romania model on the test set: 0.8333333333333334\n",
      "Accuracy of the Russian model on the test set: 1.0\n",
      "Accuracy of the Spanish model on the test set: 0.6900826446280992\n",
      "Accuracy of the turkish model on the test set: 1.0\n"
     ]
    }
   ],
   "source": [
    "import os\n",
    "l=['eng','Arabic','French', 'German', 'italian', 'Japanese', 'Korean', 'Romania', 'Russian', 'Spanish', 'turkish']\n",
    "accuracy_128=[]\n",
    "for i in l:\n",
    "    # Path to the folder containing the test set MFCC files\n",
    "    test_folder_path = rf'C:\\Users\\Pro\\Desktop\\speech processing\\speeshdata\\english_data\\Data\\{i}\\test_{i}'\n",
    "\n",
    "    # List all files in the test folder\n",
    "    test_files = os.listdir(test_folder_path)\n",
    "\n",
    "    num_correct = 0\n",
    "    num_total = len(test_files)\n",
    "\n",
    "    for file_name in test_files:\n",
    "        # Read the MFCC data from the file\n",
    "        with open(os.path.join(test_folder_path, file_name), 'r') as file:\n",
    "            test_mfcc_data = np.loadtxt(file)\n",
    "\n",
    "        max_score = float('-inf')\n",
    "        best_model = None\n",
    "\n",
    "        for language, model in models_128.items():\n",
    "            score = model.score(test_mfcc_data)\n",
    "            if score > max_score:\n",
    "                max_score = score\n",
    "                best_model = language\n",
    "\n",
    "        if best_model == i:\n",
    "            num_correct += 1\n",
    "\n",
    "    accuracy = num_correct / num_total\n",
    "    accuracy_128.append(accuracy)\n",
    "    print(f\"Accuracy of the {i} model on the test set: {accuracy}\")\n"
   ]
  },
  {
   "cell_type": "markdown",
   "id": "d3a62e84",
   "metadata": {},
   "source": [
    "In the 64 and 128 models, there is a decrease in accuracy because I decreased the size of the training set (due to the time of the training), but the results are still pretty good."
   ]
  },
  {
   "cell_type": "code",
   "execution_count": 78,
   "id": "e8326647",
   "metadata": {},
   "outputs": [
    {
     "data": {
      "image/png": "[encoded data removed]",
      "text/plain": [
       "<Figure size 1200x800 with 1 Axes>"
      ]
     },
     "metadata": {},
     "output_type": "display_data"
    }
   ],
   "source": [
    "import matplotlib.pyplot as plt\n",
    "import numpy as np\n",
    "\n",
    "\n",
    "languages = ['eng','Arabic', 'French', 'German', 'Italian', 'Japanese', 'Korean', 'Romanian', 'Russian', 'Spanish', 'Turkish']\n",
    "GMMs = [16, 32, 64, 128]\n",
    "accuracy_data = {\n",
    "    'eng':[accuracy_16[0],accuracy_32[0],accuracy_64[0],accuracy_128[0]] ,\n",
    "    'Arabic': [accuracy_16[1],accuracy_32[1],accuracy_64[1],accuracy_128[1]],  \n",
    "    'French': [accuracy_16[2],accuracy_32[2],accuracy_64[2],accuracy_128[2]],\n",
    "    'German': [accuracy_16[3],accuracy_32[3],accuracy_64[3],accuracy_128[3]],\n",
    "    'Italian': [accuracy_16[4],accuracy_32[4],accuracy_64[4],accuracy_128[4]],\n",
    "    'Japanese':  [accuracy_16[5],accuracy_32[5],accuracy_64[5],accuracy_128[5]],\n",
    "    'Korean':  [accuracy_16[6],accuracy_32[6],accuracy_64[6],accuracy_128[6]],\n",
    "    'Romanian':  [accuracy_16[7],accuracy_32[7],accuracy_64[7],accuracy_128[7]],\n",
    "    'Russian':  [accuracy_16[8],accuracy_32[8],accuracy_64[8],accuracy_128[8]],\n",
    "    'Spanish':  [accuracy_16[9],accuracy_32[9],accuracy_64[9],accuracy_128[9]],\n",
    "    'Turkish':  [accuracy_16[10],accuracy_32[10],accuracy_64[10],accuracy_128[10]]\n",
    "}\n",
    "\n",
    "# Plotting\n",
    "fig, ax = plt.subplots(figsize=(12, 8))\n",
    "bar_width = 0.2\n",
    "opacity = 0.8\n",
    "index = np.arange(len(languages))\n",
    "\n",
    "for i, GMM in enumerate(GMMs):\n",
    "    accuracies = [accuracy_data[lang][i] for lang in languages]\n",
    "    rects = ax.bar(index + i * bar_width, accuracies, bar_width, label=f'GMM({GMM})', alpha=opacity)\n",
    "\n",
    "ax.set_xlabel('Languages')\n",
    "ax.set_ylabel('Accuracy')\n",
    "ax.set_title('Accuracy of Language Models for Different GMMs')\n",
    "ax.set_xticks(index + bar_width * 1.5)\n",
    "ax.set_xticklabels(languages)\n",
    "ax.legend()\n",
    "\n",
    "plt.tight_layout()\n",
    "plt.show()\n"
   ]
  },
  {
   "cell_type": "code",
   "execution_count": null,
   "id": "bce58a95",
   "metadata": {},
   "outputs": [],
   "source": []
  }
 ],
 "metadata": {
  "kernelspec": {
   "display_name": "Python 3 (ipykernel)",
   "language": "python",
   "name": "python3"
  },
  "language_info": {
   "codemirror_mode": {
    "name": "ipython",
    "version": 3
   },
   "file_extension": ".py",
   "mimetype": "text/x-python",
   "name": "python",
   "nbconvert_exporter": "python",
   "pygments_lexer": "ipython3",
   "version": "3.10.9"
  }
 },
 "nbformat": 4,
 "nbformat_minor": 5
}
